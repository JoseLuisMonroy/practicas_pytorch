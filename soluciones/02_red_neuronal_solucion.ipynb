{
 "cells": [
  {
   "cell_type": "markdown",
   "metadata": {},
   "source": [
    "# Red neuronal multicapa en PyTorch (solución)\n",
    "\n",
    "En este notebook veremos como implementar una red neuronal usando PyTorch. En particular, implementaremos un perceptrón multicapa (MLP por sus siglas en inglés) para la classificación de dígitos del conjunto de datos MNIST.\n",
    "\n",
    "[![Open In Colab](https://colab.research.google.com/assets/colab-badge.svg)](https://colab.research.google.com/github/irvingvasquez/practicas_pytorch/blob/master/soluciones/02_red_neuronal.ipynb)\n",
    "\n",
    "@juan1rving"
   ]
  },
  {
   "cell_type": "code",
   "execution_count": 2,
   "metadata": {},
   "outputs": [],
   "source": [
    "# Primero llamamos a los paquetes necesarios\n",
    "%matplotlib inline\n",
    "%config InlineBackend.figure_format = 'retina'\n",
    "\n",
    "import helper\n",
    "import matplotlib.pyplot as plt\n",
    "\n",
    "import numpy as np\n",
    "import torch\n",
    "from torchvision import datasets, transforms"
   ]
  },
  {
   "cell_type": "markdown",
   "metadata": {},
   "source": [
    "## Conjunto de datos\n",
    "\n",
    "Para la práctica necesitaremos un conjunto de datos (dataset). Afortunadamente el paquete **torchvision** provee diversos conjuntos de datos de ejemplo. En este ejercicio, utilizaremos MNIST, el cual contiene ejemplos de letras escritas a mano. El siguiente código lee el conjunto de datos y lo separa en un conjunto de entrenamiendo y uno de prueba. "
   ]
  },
  {
   "cell_type": "code",
   "execution_count": 6,
   "metadata": {},
   "outputs": [],
   "source": [
    "# Generaramos una transformación para normalizar el conjunto de datos\n",
    "transform = transforms.Compose([transforms.ToTensor(),\n",
    "                              #transforms.Normalize((0.5, 0.5, 0.5), (0.5, 0.5, 0.5)),\n",
    "                               transforms.Normalize([0.5],[0.5]) \n",
    "                             ])\n",
    "# Descargamos el conjunto de datos de entrenamiento\n",
    "trainset = datasets.MNIST('MNIST_data/', download=True, train=True, transform=transform)\n",
    "# Cargamos el conjunto\n",
    "batch_size=64\n",
    "trainloader = torch.utils.data.DataLoader(trainset, batch_size=batch_size, shuffle=True)\n",
    "\n",
    "# Descargamos y cargamos el conjunto de prueba\n",
    "testset = datasets.MNIST('MNIST_data/', download=True, train=False, transform=transform)\n",
    "testloader = torch.utils.data.DataLoader(testset, batch_size=batch_size, shuffle=True)"
   ]
  },
  {
   "cell_type": "code",
   "execution_count": 7,
   "metadata": {},
   "outputs": [],
   "source": [
    "# Ordenamos los datos para tener parejas de imágenes con su respectiva clase\n",
    "\n",
    "# Los datos se encuentran en trainloader asi que generamos un iterador para extraerlos uno por uno\n",
    "dataiter = iter(trainloader)\n",
    "\n",
    "# TODO: Obtén un lote de ejemplos y sus respectivas etiquetas\n",
    "images, labels = next(dataiter)"
   ]
  },
  {
   "cell_type": "markdown",
   "metadata": {},
   "source": [
    "Es recomendable verificar que estamos cargando bien el conjunto de datos. Asi que a continuación imprimeremos uno."
   ]
  },
  {
   "cell_type": "code",
   "execution_count": 8,
   "metadata": {},
   "outputs": [
    {
     "data": {
      "text/plain": [
       "torch.Size([1, 28, 28])"
      ]
     },
     "execution_count": 8,
     "metadata": {},
     "output_type": "execute_result"
    },
    {
     "data": {
      "image/png": "[encoded data removed]",
      "text/plain": [
       "<Figure size 432x288 with 1 Axes>"
      ]
     },
     "metadata": {
      "image/png": {
       "height": 248,
       "width": 251
      },
      "needs_background": "light"
     },
     "output_type": "display_data"
    }
   ],
   "source": [
    "plt.imshow(images[1].numpy().squeeze(), cmap='Greys_r');\n",
    "images[1].size()"
   ]
  },
  {
   "cell_type": "markdown",
   "metadata": {},
   "source": [
    "## Implementación de la red neuronal multicapa\n",
    "\n",
    "Ahora pasaremos a la creación de la red neuronal, como ejemplo utilizaremos un perceptrón multicapa para clasificar las imagenes del conjunto MNIST. Como entrada tendremos 784 nodos = 28 * 28, en seguida tendremos una capa oculta de 128 nodos, con una función de activación tipo RELU, despúes tendremos una segunda capa oculta con 64 nodos y función de activación RELU, en seguida tendremos 10 nodos de salida los cuales pasan por una función softmax que convierte los valores a probabilidades. En el siguiente ejercicio incluiremos la pérdida (loss) con la función de entropía cruzada. \n",
    "\n",
    "<img src=\"../archivos/net.png\">\n",
    "\n",
    "El modulo que contiene las herramientas para crear la RN es **pytorch.nn**. La red neuronal en sí se crea como una clase que hereda la estructura de **pytorch.nn.Module**. Cada una de las capas de la red se define de forma independiente. e.g. Para crear una capa con 784 entradas y 128 nodos utilizamos *nn.Linear(784, 128)*\n",
    "\n",
    "La red implementa la función *forward* que realiza el paso frontal (fowdward pass). Esta función miembro recibe un tensor como entrada y calcula la salida de la red.\n",
    "\n",
    "Varias funciones de activación se encuntran en el módulo *nn.functional*. Dicho módulo usualmente se importa como *F*. \n"
   ]
  },
  {
   "cell_type": "code",
   "execution_count": 9,
   "metadata": {},
   "outputs": [],
   "source": [
    "# importamos paquetes de pytorch\n",
    "from torch import nn\n",
    "import torch.nn.functional as F"
   ]
  },
  {
   "attachments": {},
   "cell_type": "markdown",
   "metadata": {},
   "source": [
    "En general las redes implementan a partir de la clase nn.Module que provee la clase base. Por lo tanto en este ejercicio declararemos una clase denominada red neuronal que hereda de nn.Module.  Una vez declarada nuestra red neuronal es necesario includir como atributos de la case las capas que se requieren, esto por que cada capa incluye los parámetros (pesos) que se entrenarán y deben tener permanencia mientras exista la red. Dichas capas se incluirán dentro del constructor __init__ . \n",
    "\n",
    "De acuerdo a pytorch.org\n",
    "\n",
    "    nn.Linear(in_features, out_features, bias=True, device=None, dtype=None)\n",
    "\n",
    "Applies a linear transformation to the incoming data.\n",
    "\n",
    "Por lo tanto si queremos uncluir una sola capa podríamos codificar lo siguiente:\n",
    "\n",
    "    self.fc = nn.Lnear(n_inputs, n_outputs)\n",
    "\n",
    "A continuación definiremos el comportamiento de inferencia de la red dentro de la funcion forward. En el comportamiento indicaremos el orden en el que se van ejecutando las capas y las funciones de activación. Recuerda que las funciones de activación solo se llaman pero no se instancían. Un ejemplo de una sola capa sería:\n",
    "\n",
    "    def forward(self, x):\n",
    "        y = F.relu(self.fc(x))\n",
    "        return y\n"
   ]
  },
  {
   "cell_type": "code",
   "execution_count": 10,
   "metadata": {},
   "outputs": [],
   "source": [
    "# Implementación de la red neuronal\n",
    "class RedNeuronal(nn.Module):\n",
    "    def __init__(self):\n",
    "        super().__init__()\n",
    "        # Definir las capas. Cada una con 128, 64 y 10 unidades respectivamente\n",
    "        self.fc1 = nn.Linear(784, 128)\n",
    "        self.fc2 = nn.Linear(128, 64)\n",
    "        # Capa de salida con 10 units (una para cada dígito)\n",
    "        self.fc3 = nn.Linear(64, 10)\n",
    "        \n",
    "    def forward(self, x):\n",
    "        ''' Pase frontal de la red, regresamos las probabilidades '''\n",
    "        x = self.fc1(x)\n",
    "        x = F.relu(x)\n",
    "        x = self.fc2(x)\n",
    "        x = F.relu(x)\n",
    "        x = self.fc3(x)\n",
    "        y = F.softmax(x, dim=1)\n",
    "        \n",
    "        return y"
   ]
  },
  {
   "cell_type": "code",
   "execution_count": 11,
   "metadata": {},
   "outputs": [
    {
     "name": "stdout",
     "output_type": "stream",
     "text": [
      "RedNeuronal(\n",
      "  (fc1): Linear(in_features=784, out_features=128, bias=True)\n",
      "  (fc2): Linear(in_features=128, out_features=64, bias=True)\n",
      "  (fc3): Linear(in_features=64, out_features=10, bias=True)\n",
      ")\n"
     ]
    }
   ],
   "source": [
    "model = RedNeuronal()\n",
    "print(model)"
   ]
  },
  {
   "cell_type": "markdown",
   "metadata": {},
   "source": [
    "### Inicializamos pesos y sesgos\n",
    "\n",
    "Cuando creas las capas se crean también los tensores correspondientes a los pesos y sesgos. Éstos son inicializados por ti, aunque pudes modificarlos usando funciones extra. Para observar sus valores puedes llamar a *model.fc1.weight* \n"
   ]
  },
  {
   "cell_type": "code",
   "execution_count": 16,
   "metadata": {},
   "outputs": [
    {
     "name": "stdout",
     "output_type": "stream",
     "text": [
      "Parameter containing:\n",
      "tensor([[ 9.9723e-03, -7.5474e-06,  1.3265e-02,  ...,  2.8805e-02,\n",
      "         -1.3914e-02, -2.6288e-02],\n",
      "        [-1.4172e-02,  3.2646e-02,  2.6562e-02,  ...,  2.5904e-02,\n",
      "         -2.0148e-02, -2.6238e-02],\n",
      "        [ 1.2665e-03,  3.7877e-03,  3.1762e-02,  ...,  2.7686e-02,\n",
      "          2.1482e-02, -3.0605e-02],\n",
      "        ...,\n",
      "        [ 2.1352e-02,  2.1146e-02, -1.1668e-02,  ..., -1.8667e-02,\n",
      "         -2.4304e-02,  2.3473e-02],\n",
      "        [-6.7076e-03,  8.5811e-03, -2.4602e-02,  ...,  1.1613e-02,\n",
      "          2.4198e-02, -3.2462e-02],\n",
      "        [-9.6219e-04, -5.3277e-03, -1.5103e-02,  ...,  3.5086e-02,\n",
      "          2.2136e-02,  3.0636e-02]], requires_grad=True)\n",
      "Parameter containing:\n",
      "tensor([ 0.0349,  0.0023, -0.0086,  0.0190,  0.0051,  0.0182, -0.0353, -0.0009,\n",
      "        -0.0342, -0.0043,  0.0160, -0.0184, -0.0305,  0.0119,  0.0131, -0.0157,\n",
      "        -0.0218,  0.0288, -0.0278, -0.0194, -0.0157,  0.0270, -0.0241, -0.0325,\n",
      "        -0.0132, -0.0357, -0.0295,  0.0220, -0.0218,  0.0268, -0.0026,  0.0192,\n",
      "         0.0229,  0.0033, -0.0030, -0.0314,  0.0354, -0.0109, -0.0126, -0.0142,\n",
      "         0.0325, -0.0075, -0.0103, -0.0078, -0.0181, -0.0082,  0.0095,  0.0218,\n",
      "         0.0337, -0.0282,  0.0135,  0.0187, -0.0104, -0.0006,  0.0257, -0.0350,\n",
      "        -0.0040,  0.0209, -0.0128, -0.0106, -0.0087, -0.0037,  0.0193,  0.0169,\n",
      "         0.0201,  0.0223,  0.0057, -0.0271, -0.0241, -0.0045, -0.0246,  0.0154,\n",
      "         0.0128,  0.0141,  0.0097,  0.0346, -0.0292, -0.0106, -0.0139,  0.0125,\n",
      "        -0.0105, -0.0005, -0.0287,  0.0115,  0.0084, -0.0031,  0.0094,  0.0008,\n",
      "         0.0237, -0.0286, -0.0313, -0.0075,  0.0177, -0.0002,  0.0190, -0.0159,\n",
      "         0.0022, -0.0011, -0.0124, -0.0098, -0.0297,  0.0255, -0.0038, -0.0013,\n",
      "        -0.0186, -0.0313,  0.0075,  0.0113,  0.0238, -0.0069,  0.0280,  0.0047,\n",
      "         0.0354,  0.0199,  0.0342,  0.0130, -0.0019,  0.0069,  0.0136, -0.0238,\n",
      "         0.0255,  0.0230,  0.0204, -0.0318, -0.0006,  0.0300, -0.0352,  0.0164],\n",
      "       requires_grad=True)\n"
     ]
    }
   ],
   "source": [
    "print(model.fc1.weight)\n",
    "print(model.fc1.bias)"
   ]
  },
  {
   "cell_type": "markdown",
   "metadata": {},
   "source": [
    "Supongamos que deseamos inicializar los pesos con algunos valores personalizados. Dado que los pesos y sesgos en sí son variables de autograd (Preparadas para el cálculo del gradiente automático) estos solo se pueden modificar cuando no estan en modo de autogradiente."
   ]
  },
  {
   "cell_type": "code",
   "execution_count": 19,
   "metadata": {},
   "outputs": [
    {
     "data": {
      "text/plain": [
       "tensor([0., 0., 0., 0., 0., 0., 0., 0., 0., 0., 0., 0., 0., 0., 0., 0., 0., 0., 0., 0., 0., 0., 0., 0.,\n",
       "        0., 0., 0., 0., 0., 0., 0., 0., 0., 0., 0., 0., 0., 0., 0., 0., 0., 0., 0., 0., 0., 0., 0., 0.,\n",
       "        0., 0., 0., 0., 0., 0., 0., 0., 0., 0., 0., 0., 0., 0., 0., 0., 0., 0., 0., 0., 0., 0., 0., 0.,\n",
       "        0., 0., 0., 0., 0., 0., 0., 0., 0., 0., 0., 0., 0., 0., 0., 0., 0., 0., 0., 0., 0., 0., 0., 0.,\n",
       "        0., 0., 0., 0., 0., 0., 0., 0., 0., 0., 0., 0., 0., 0., 0., 0., 0., 0., 0., 0., 0., 0., 0., 0.,\n",
       "        0., 0., 0., 0., 0., 0., 0., 0.])"
      ]
     },
     "execution_count": 19,
     "metadata": {},
     "output_type": "execute_result"
    }
   ],
   "source": [
    "# Colocamos ceros\n",
    "model.fc1.bias.data.fill_(0)"
   ]
  },
  {
   "cell_type": "code",
   "execution_count": 20,
   "metadata": {},
   "outputs": [
    {
     "data": {
      "text/plain": [
       "tensor([[-0.0062,  0.0080,  0.0015,  ...,  0.0103,  0.0073,  0.0207],\n",
       "        [ 0.0013,  0.0206, -0.0056,  ...,  0.0069, -0.0008,  0.0100],\n",
       "        [-0.0058,  0.0032,  0.0119,  ..., -0.0003, -0.0244, -0.0037],\n",
       "        ...,\n",
       "        [ 0.0064,  0.0067, -0.0066,  ...,  0.0012,  0.0075, -0.0086],\n",
       "        [ 0.0044,  0.0110, -0.0208,  ...,  0.0008,  0.0018,  0.0105],\n",
       "        [-0.0169,  0.0023, -0.0010,  ...,  0.0023, -0.0071, -0.0023]])"
      ]
     },
     "execution_count": 20,
     "metadata": {},
     "output_type": "execute_result"
    }
   ],
   "source": [
    "# muestreamos desde una distribución normal con media cero y desv. estandar = 0.01\n",
    "model.fc1.weight.data.normal_(std=0.01)"
   ]
  },
  {
   "cell_type": "markdown",
   "metadata": {},
   "source": [
    "### Pase frontal\n",
    "\n",
    "Hasta el momento la red no está entrenada y solo tenemos los pesos aleatorios. Hagamos un pase frontal para ver que pasa. Primero debemos convertir la imagen a un tensor y pasarla a través de la red. "
   ]
  },
  {
   "cell_type": "code",
   "execution_count": 13,
   "metadata": {},
   "outputs": [
    {
     "name": "stdout",
     "output_type": "stream",
     "text": [
      "tensor([[0.0984, 0.1052, 0.0964, 0.1013, 0.0908, 0.0788, 0.1160, 0.1081, 0.1227,\n",
      "         0.0823]], grad_fn=<SoftmaxBackward0>)\n"
     ]
    }
   ],
   "source": [
    "# Obtengamos el siguiente lote de imágenes\n",
    "#dataiter = iter(trainloader)\n",
    "images, labels = dataiter.next()\n",
    "\n",
    "# Reestructuremos el lote a un vector de una dimensión, hay quien le llama a esta operación \"aplanado\".\n",
    "# La nueva forma será (batch size, color channels, image pixels) \n",
    "images.resize_(batch_size, 1, 784)\n",
    "# alternativa: images.resize_(images.shape[0], 1, 784) to not automatically get batch size\n",
    "\n",
    "# Pase frontal de la red\n",
    "img_idx = 0\n",
    "prediction = model.forward(images[img_idx,:])\n",
    "\n",
    "print(prediction)"
   ]
  },
  {
   "cell_type": "code",
   "execution_count": 15,
   "metadata": {},
   "outputs": [
    {
     "data": {
      "image/png": "[encoded data removed]",
      "text/plain": [
       "<Figure size 432x648 with 2 Axes>"
      ]
     },
     "metadata": {
      "image/png": {
       "height": 235,
       "width": 424
      },
      "needs_background": "light"
     },
     "output_type": "display_data"
    }
   ],
   "source": [
    "img = images[img_idx]\n",
    "helper.view_classify(img.view(1, 28, 28), prediction)"
   ]
  },
  {
   "cell_type": "markdown",
   "metadata": {},
   "source": [
    "Seguro ninguna de las clases tiene una probabilidad grande con respecto de las otras, esto se debe a que todavía no hemos entrenado la red. En el siguiente ejercicio entrenaremos la red.\n"
   ]
  },
  {
   "cell_type": "code",
   "execution_count": null,
   "metadata": {},
   "outputs": [],
   "source": []
  }
 ],
 "metadata": {
  "kernelspec": {
   "display_name": "practicas_pt",
   "language": "python",
   "name": "python3"
  },
  "language_info": {
   "codemirror_mode": {
    "name": "ipython",
    "version": 3
   },
   "file_extension": ".py",
   "mimetype": "text/x-python",
   "name": "python",
   "nbconvert_exporter": "python",
   "pygments_lexer": "ipython3",
   "version": "3.10.4"
  },
  "vscode": {
   "interpreter": {
    "hash": "e22d029f5570ef7df543599926afc42bb090457ba5a887f8aae20fd6018d0da0"
   }
  },
  "widgets": {
   "state": {},
   "version": "1.1.2"
  }
 },
 "nbformat": 4,
 "nbformat_minor": 2
}
